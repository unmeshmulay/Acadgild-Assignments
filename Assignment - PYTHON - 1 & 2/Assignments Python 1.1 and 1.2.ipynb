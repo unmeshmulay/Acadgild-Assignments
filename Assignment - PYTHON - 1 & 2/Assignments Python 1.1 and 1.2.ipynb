{
 "cells": [
  {
   "cell_type": "markdown",
   "metadata": {},
   "source": [
    "<B>Unmesh Mulay</B>\n",
    "\n",
    "Assignment Python 1 & 2 \n",
    "\n",
    "Task 1:\n",
    "    \n",
    "1. Install Jupyter notebook and run the first program and share the screenshot of the output."
   ]
  },
  {
   "cell_type": "markdown",
   "metadata": {},
   "source": [
    "<img src=\"images/Task 1 - Program 1 - Image 1.png\">\n",
    "<img src=\"images/Task 1 - Program 1 - Image 2.png\">"
   ]
  },
  {
   "cell_type": "code",
   "execution_count": 2,
   "metadata": {},
   "outputs": [
    {
     "name": "stdout",
     "output_type": "stream",
     "text": [
      "\n",
      "\n",
      "\n"
     ]
    }
   ],
   "source": [
    "print(\"\\n\\n\")"
   ]
  },
  {
   "cell_type": "markdown",
   "metadata": {},
   "source": [
    "Task 1:\n",
    "    \n",
    "2. Write a program which will find all such numbers which are divisible by 7 but are not a multiple\n",
    "of 5, between 2000 and 3200 (both included). The numbers obtained should be printed in a\n",
    "comma-separated sequence on a single line."
   ]
  },
  {
   "cell_type": "code",
   "execution_count": 4,
   "metadata": {},
   "outputs": [
    {
     "name": "stdout",
     "output_type": "stream",
     "text": [
      " \n",
      "Below are the numbers which are divisible by 7 but not by 5 between 2000 to 3200 range in comma seperated:\n",
      "\n",
      "2002,2009,2016,2023,2037,2044,2051,2058,2072,2079,2086,2093,2107,2114,2121,2128,2142,2149,2156,2163,2177,2184,2191,2198,2212,2219,2226,2233,2247,2254,2261,2268,2282,2289,2296,2303,2317,2324,2331,2338,2352,2359,2366,2373,2387,2394,2401,2408,2422,2429,2436,2443,2457,2464,2471,2478,2492,2499,2506,2513,2527,2534,2541,2548,2562,2569,2576,2583,2597,2604,2611,2618,2632,2639,2646,2653,2667,2674,2681,2688,2702,2709,2716,2723,2737,2744,2751,2758,2772,2779,2786,2793,2807,2814,2821,2828,2842,2849,2856,2863,2877,2884,2891,2898,2912,2919,2926,2933,2947,2954,2961,2968,2982,2989,2996,3003,3017,3024,3031,3038,3052,3059,3066,3073,3087,3094,3101,3108,3122,3129,3136,3143,3157,3164,3171,3178,3192,3199\n",
      "\n"
     ]
    }
   ],
   "source": [
    "# Unmesh Mulay\n",
    "# Assignment Python 1 & 2 Session\n",
    "# Task 1 - Program 2 - Date 5th Jan 2019\n",
    "\n",
    "\n",
    "myRangeList = range(2000, 3201)\n",
    "#print(len(myRangeList))\n",
    "#print(myRangeList[5])\n",
    "#print(range(len(myRangeList)))\n",
    "myStr = \" \"\n",
    "print(myStr)\n",
    "for val in list(myRangeList):\n",
    " #   print(val)\n",
    "  #  print(val/7)\n",
    "   # print(val%7)\n",
    "    if val%7 == 0 and val%5 != 0:\n",
    "        # if val%5 != 0:\n",
    "        if myStr.isspace() == True:\n",
    "             myStr = str(val)\n",
    "        else:\n",
    "            myStr = myStr + ',' + str(val)\n",
    "print(\"Below are the numbers which are divisible by 7 but not by 5 between 2000 to 3200 range in comma seperated:\\n\")    \n",
    "print(myStr + \"\\n\")"
   ]
  },
  {
   "cell_type": "code",
   "execution_count": 3,
   "metadata": {},
   "outputs": [
    {
     "name": "stdout",
     "output_type": "stream",
     "text": [
      "\n",
      "\n",
      "\n"
     ]
    }
   ],
   "source": [
    "print(\"\\n\\n\")"
   ]
  },
  {
   "cell_type": "markdown",
   "metadata": {},
   "source": [
    "Task 1:\n",
    "\n",
    "3. Write a Python program to accept the user's first and last name and then getting them printed in\n",
    "the the reverse order with a space between first name and last name."
   ]
  },
  {
   "cell_type": "code",
   "execution_count": 4,
   "metadata": {},
   "outputs": [
    {
     "name": "stdin",
     "output_type": "stream",
     "text": [
      "Enter Your First Name:  Unmesh\n",
      "Enter Your Last Name:  Mulay\n"
     ]
    },
    {
     "name": "stdout",
     "output_type": "stream",
     "text": [
      "\n",
      "Below text is displaying 'Last Name' and 'First Name' is reverse order with space between both of them: \n",
      "\n",
      "yaluM hsemnU\n",
      "\n",
      "\n",
      "\n"
     ]
    }
   ],
   "source": [
    "# Unmesh Mulay\n",
    "# Assignment Python 1 & 2 Session\n",
    "# Task 1 - Program 3 - Date 5th Jan 2019\n",
    "\n",
    "inFName = input(\"Enter Your First Name: \")\n",
    "inLName = input(\"Enter Your Last Name: \")\n",
    "outName = inFName + \" \" + inLName\n",
    "print(\"\\nBelow text is displaying 'Last Name' and 'First Name' is reverse order with space between both of them: \\n\")\n",
    "print(outName[::-1])\n",
    "print(\"\\n\\n\")"
   ]
  },
  {
   "cell_type": "markdown",
   "metadata": {},
   "source": [
    "Task 1:\n",
    "\n",
    "4.\n",
    "Write a Python program to find the volume of a sphere with diameter 12 cm.\n",
    "Formula: V=4/3 * π * r 3"
   ]
  },
  {
   "cell_type": "code",
   "execution_count": 5,
   "metadata": {},
   "outputs": [
    {
     "name": "stdout",
     "output_type": "stream",
     "text": [
      "Volume of a Sphere of having radius 12 is - 7241.142857142858\n",
      "\n",
      "\n"
     ]
    }
   ],
   "source": [
    "# Unmesh Mulay \n",
    "# Assignment Python 1 & 2 Session\n",
    "# Task 1 - Program 4 - Date 5th Jan 2019\n",
    "\n",
    "Radius_of_Sphere = 12\n",
    "# print(Radius_of_Sphere ** 2)\n",
    "print(\"Volume of a Sphere of having radius \" + str(Radius_of_Sphere) + \" is - \" + str(4/3 * 22/7 * (Radius_of_Sphere ** 3)) + \"\\n\\n\")\n"
   ]
  },
  {
   "cell_type": "markdown",
   "metadata": {},
   "source": [
    "Task 2:\n",
    "    \n",
    "1. Write a program which accepts a sequence of comma-separated numbers from console and\n",
    "generate a list."
   ]
  },
  {
   "cell_type": "code",
   "execution_count": 7,
   "metadata": {},
   "outputs": [
    {
     "name": "stdin",
     "output_type": "stream",
     "text": [
      "Enter numbers in comma separted format : 2,4,5\n"
     ]
    },
    {
     "name": "stdout",
     "output_type": "stream",
     "text": [
      "List of input string - '2,4,5' is - ['2', '4', '5']\n",
      "\n",
      "\n",
      "\n"
     ]
    }
   ],
   "source": [
    "# Unmesh Mulay \n",
    "# Assignment Python 1 & 2 Session\n",
    "# Task 2 - Program 1 - Date 5th Jan 2019\n",
    "strSeq = input(\"Enter numbers in comma separted format :\")\n",
    "print(\"List of input string - '\" + strSeq + \"' is - \" + str(list(strSeq.replace( \",\", \"\"))))\n",
    "print(\"\\n\\n\")\n"
   ]
  },
  {
   "cell_type": "raw",
   "metadata": {},
   "source": [
    "Task 2:\n",
    "    \n",
    "2.Create the below pattern using nested for loop in Python.\n",
    "\n",
    "*\n",
    "* *\n",
    "* * *\n",
    "* * * *\n",
    "* * * * *\n",
    "* * * *\n",
    "* * *\n",
    "* *\n",
    "*"
   ]
  },
  {
   "cell_type": "code",
   "execution_count": 8,
   "metadata": {},
   "outputs": [
    {
     "name": "stdout",
     "output_type": "stream",
     "text": [
      "*\n",
      "**\n",
      "***\n",
      "****\n",
      "*****\n",
      "****\n",
      "***\n",
      "**\n",
      "*\n",
      "\n",
      "\n",
      "\n",
      "\n"
     ]
    }
   ],
   "source": [
    "# Unmesh Mulay \n",
    "# Assignment Python 1 & 2 Session\n",
    "# Task 2 - Program 2 - Date 5th Jan 2019\n",
    "\n",
    "maxChar = 5\n",
    "myStr = \"*\"\n",
    "\n",
    "for i in range(0, maxChar):\n",
    "    #myStr = myStr +  \" \" + \"*\" \n",
    "    print(myStr * (i+1))\n",
    "    \n",
    "        \n",
    "#myStr = \"\"    \n",
    "for i in range(maxChar, 0, -1):\n",
    "    #myStr = myStr +  \" \" + \"*\" \n",
    "    print(myStr * (i-1))\n",
    "print(\"\\n\\n\")"
   ]
  },
  {
   "cell_type": "markdown",
   "metadata": {},
   "source": [
    "Task 2:\n",
    "    \n",
    "3. Write a Python program to reverse a word after accepting the input from the user.\n",
    "Sample Output:\n",
    "Input word: AcadGild\n",
    "Output: dilGdacA"
   ]
  },
  {
   "cell_type": "code",
   "execution_count": 9,
   "metadata": {},
   "outputs": [
    {
     "name": "stdin",
     "output_type": "stream",
     "text": [
      "Enter Your Name Unmesh Mulay\n"
     ]
    },
    {
     "name": "stdout",
     "output_type": "stream",
     "text": [
      "yaluM hsemnU\n",
      "\n",
      "\n",
      "\n"
     ]
    }
   ],
   "source": [
    "# Unmesh Mulay \n",
    "# Assignment Python 1 & 2 Session\n",
    "# Task 2 - Program 3 - Date 5th Jan 2019 \n",
    "\n",
    "inText = input(\"Enter Your Name\")\n",
    "print(inText[::-1])\n",
    "print(\"\\n\\n\")"
   ]
  },
  {
   "cell_type": "raw",
   "metadata": {},
   "source": [
    "Task 2:\n",
    "    \n",
    "4. Write a Python Program to print the given string in the format specified in the sample output.\n",
    "\n",
    "WE, THE PEOPLE OF INDIA, having solemnly resolved to constitute India into a\n",
    "SOVEREIGN, SOCIALIST, SECULAR, DEMOCRATIC REPUBLIC and to secure to all\n",
    "its citizens\n",
    "Sample Output:\n",
    "\n",
    "WE, THE PEOPLE OF INDIA,\n",
    "    having solemnly resolved to constitute India into a SOVEREIGN, !\n",
    "        SOCIALIST, SECULAR, DEMOCRATIC REPUBLIC\n",
    "            and to secure to all its citizens"
   ]
  },
  {
   "cell_type": "code",
   "execution_count": 10,
   "metadata": {},
   "outputs": [
    {
     "name": "stdout",
     "output_type": "stream",
     "text": [
      "WE, THE PEOPLE OF INDIA,\n",
      "\t having solemnly respolved to constitute India into a SOVEREIGN,\n",
      "\t\t SOCIALIST, SECULAR, DEMOCRATIC REPUBLIC\n",
      "\t\t and to secure to all its citizens\n"
     ]
    }
   ],
   "source": [
    "# Unmesh Mulay \n",
    "# Assignment Python 1 & 2 Session\n",
    "# Task 2 - Program 4 - Date 5th Jan 2019 \n",
    "\n",
    "varStr = \"WE, THE PEOPLE OF INDIA, having solemnly respolved to constitute India into a SOVEREIGN, SOCIALIST, SECULAR, DEMOCRATIC REPUBLIC and to secure to all its citizens\"\n",
    "\n",
    "varStr_Formatted = \"WE, THE PEOPLE OF INDIA,\\n\\t having solemnly respolved to constitute India into a SOVEREIGN,\\n\\t\\t SOCIALIST, SECULAR, DEMOCRATIC REPUBLIC\\n\\t\\t and to secure to all its citizens\"\n",
    "print(varStr_Formatted)\n"
   ]
  }
 ],
 "metadata": {
  "kernelspec": {
   "display_name": "Python 3",
   "language": "python",
   "name": "python3"
  },
  "language_info": {
   "codemirror_mode": {
    "name": "ipython",
    "version": 3
   },
   "file_extension": ".py",
   "mimetype": "text/x-python",
   "name": "python",
   "nbconvert_exporter": "python",
   "pygments_lexer": "ipython3",
   "version": "3.7.1"
  }
 },
 "nbformat": 4,
 "nbformat_minor": 2
}
